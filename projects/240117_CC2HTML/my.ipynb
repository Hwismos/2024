{
 "cells": [
  {
   "cell_type": "code",
   "execution_count": 34,
   "metadata": {},
   "outputs": [
    {
     "name": "stdout",
     "output_type": "stream",
     "text": [
      "&\"\"&UNICHAR(26519)&\"\"&\n"
     ]
    }
   ],
   "source": [
    "# 한자를 HTML eneity로 변환, 논어 내용 정리에 이용\n",
    "# 엑셀에서 이용\n",
    "# u'{한자 입력}'\n",
    "\n",
    "chinese_char_to_unicode = u'林'.encode('ascii','xmlcharrefreplace')\n",
    "chin_str = str(chinese_char_to_unicode)\n",
    "start_idx = chin_str.find('#')\n",
    "end_idx = chin_str.find(';')\n",
    "html_entity = chin_str[start_idx+1:end_idx]\n",
    "\n",
    "print(f'&\"\"&UNICHAR({html_entity})&\"\"&')"
   ]
  }
 ],
 "metadata": {
  "kernelspec": {
   "display_name": "240116_IPYNB",
   "language": "python",
   "name": "python3"
  },
  "language_info": {
   "codemirror_mode": {
    "name": "ipython",
    "version": 3
   },
   "file_extension": ".py",
   "mimetype": "text/x-python",
   "name": "python",
   "nbconvert_exporter": "python",
   "pygments_lexer": "ipython3",
   "version": "3.10.12"
  }
 },
 "nbformat": 4,
 "nbformat_minor": 2
}
