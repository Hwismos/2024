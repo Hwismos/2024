{
 "cells": [
  {
   "cell_type": "code",
   "execution_count": null,
   "metadata": {},
   "outputs": [],
   "source": [
    "import pandas as pd \n",
    "import matplotlib.pyplot as plt\n",
    "\n",
    "df_A_indicies = ['ACM', 'GREET']\n",
    "df_A_keys = ['old chameleon accuracy', 'new chameleon accuracy']\n",
    "df_A_values = [[70.35, 63.33], [40.15, 43.08]]\n",
    "    \n",
    "df_B_indicies = ['GREET', 'SUPERVISED']\n",
    "df_B_keys = ['old chameleon accuracy']\n",
    "df_B_values = [63.05, 85.77]"
   ]
  },
  {
   "cell_type": "code",
   "execution_count": null,
   "metadata": {},
   "outputs": [],
   "source": [
    "df_A = pd.DataFrame(df_A_values, index=df_A_indicies, columns=df_A_keys)\n",
    "df_A.head()"
   ]
  },
  {
   "cell_type": "code",
   "execution_count": null,
   "metadata": {},
   "outputs": [],
   "source": [
    "df_B = pd.DataFrame(df_B_values, index=df_B_indicies, columns=df_B_keys)\n",
    "df_B.head()"
   ]
  },
  {
   "cell_type": "code",
   "execution_count": null,
   "metadata": {},
   "outputs": [],
   "source": [
    "import matplotlib.pyplot as plt\n",
    "import numpy as np\n",
    "\n",
    "models = (\"ACM\", \"GREET\")\n",
    "accuracy = {\n",
    "    'Old chameleon accuracy': (70.35, 63.33),\n",
    "    'New chameleon accuracy': (40.15, 43.08),\n",
    "}\n",
    "\n",
    "x = np.arange(len(models))  # the label locations\n",
    "width = 0.25  # the width of the bars\n",
    "multiplier = 0\n",
    "\n",
    "fig, ax = plt.subplots(layout='constrained')\n",
    "\n",
    "for attribute, measurement in accuracy.items():\n",
    "    offset = width * multiplier\n",
    "    rects = ax.bar(x + offset, measurement, width, label=attribute)\n",
    "    ax.bar_label(rects, padding=3)\n",
    "    multiplier += 1\n",
    "\n",
    "# Add some text for labels, title and custom x-axis tick labels, etc.\n",
    "ax.set_ylabel('Node classification accuracy (%)')\n",
    "ax.set_title('Node classification of old/new heterophilic graph dataset')\n",
    "ax.set_xticks(x + width, models)\n",
    "ax.legend(loc='upper left', ncols=2)\n",
    "ax.set_ylim(0, 90)\n",
    "\n",
    "plt.show()"
   ]
  },
  {
   "cell_type": "code",
   "execution_count": null,
   "metadata": {},
   "outputs": [],
   "source": [
    "fig, ax = plt.subplots()\n",
    "\n",
    "models = ['GREET', 'Ground truth']\n",
    "accuracy = [63.05, 85.77]\n",
    "bar_colors = ['tab:blue', 'tab:red']\n",
    "bar_labels = ['Old chameleon accuracy', 'Old chameleon accuracy']\n",
    "\n",
    "rects = ax.bar(models, accuracy, color=bar_colors, label=bar_labels)\n",
    "ax.bar_label(rects, padding=3)\n",
    "\n",
    "ax.set_ylabel('Node classification (%)')\n",
    "ax.set_title('Node classification of unsupervised/supervised heterophilic graph dataset')\n",
    "ax.set_ylim(0, 100)\n",
    "ax.legend(loc='upper left', ncols=1)\n",
    "\n",
    "plt.show()"
   ]
  }
 ],
 "metadata": {
  "kernelspec": {
   "display_name": "240116_IPYNB",
   "language": "python",
   "name": "python3"
  },
  "language_info": {
   "codemirror_mode": {
    "name": "ipython",
    "version": 3
   },
   "file_extension": ".py",
   "mimetype": "text/x-python",
   "name": "python",
   "nbconvert_exporter": "python",
   "pygments_lexer": "ipython3",
   "version": "3.10.12"
  }
 },
 "nbformat": 4,
 "nbformat_minor": 2
}
