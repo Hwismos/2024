{
 "cells": [
  {
   "cell_type": "code",
   "execution_count": 1,
   "metadata": {},
   "outputs": [
    {
     "name": "stderr",
     "output_type": "stream",
     "text": [
      "/home/hwiric/anaconda3/envs/230818_UDT/lib/python3.10/site-packages/tqdm/auto.py:21: TqdmWarning: IProgress not found. Please update jupyter and ipywidgets. See https://ipywidgets.readthedocs.io/en/stable/user_install.html\n",
      "  from .autonotebook import tqdm as notebook_tqdm\n"
     ]
    }
   ],
   "source": [
    "import pandas as pd\n",
    "import numpy as np\n",
    "import torch "
   ]
  },
  {
   "cell_type": "code",
   "execution_count": 27,
   "metadata": {},
   "outputs": [],
   "source": [
    "# Construct DataFrame\n",
    "\n",
    "class MyDataFrame():\n",
    "    def __init__(self) -> None:\n",
    "        self.indicies = ['texas', 'cornell', 'wisconsin', 'chameleon', 'squirrel', 'actor']\n",
    "\n",
    "\n",
    "    def acc_std_df(self):\n",
    "        my_dict = {\n",
    "            'UDT acc': [79.73, 71.62, 76.47, 64.47, 52.03, 35.35],\n",
    "            'UDT std' : [3.87, 5.95, 4.30, 2.18, 1.70, 1.24],\n",
    "            'New accuracy': [77.03,70.27,80.78,65.40,47.94,0],\n",
    "            'New std': [5.70,3.20,3.90,2.06,0,0]\n",
    "        }  # 1trial-squirrel, 8trial-actor-ing\n",
    "        self.acc_std = pd.DataFrame(data=my_dict, index=self.indicies)     \n",
    "        \n",
    "\n",
    "    def attention_encoder1_df(self):\n",
    "        indicies = ['org || org (att11)','org || feat (att12)','org || str (att13)']\n",
    "        my_dict = {\n",
    "            'Texas avg': [0.0009,0.9986,0.0004],\n",
    "            'Texas std' : [0.0011,0.0016,0.0007],\n",
    "            'Cornell avg': [0.0001,0.9998,0.0001],\n",
    "            'Cornell std': [0.0001,0.0001,0.0001],\n",
    "            'Wisconsin avg': [0.0000,0.9999,0.0000],\n",
    "            'Wisconsin std': [0.0000,0.0000,0.0000],\n",
    "            'Chameleon avg': [0.0005,0.0005,0.9990],\n",
    "            'Chameleon std': [0.0002,0.0002,0.0005],\n",
    "            'Squirrel avg': [-1,-1,-1],\n",
    "            'Squirrel std': [-1,-1,-1],\n",
    "            'Actor avg': [-1,-1,-1],\n",
    "            'Actor std': [-1,-1,-1],\n",
    "        }\n",
    "        self.att_enc1 = pd.DataFrame(data=my_dict, index=indicies)\n",
    "        drop_list = ['Texas std','Cornell std','Wisconsin std','Chameleon std','Squirrel std','Actor std']\n",
    "        self.att_enc1 = self.att_enc1.drop(columns=drop_list)\n",
    "\n",
    "\n",
    "dataframes = MyDataFrame()\n"
   ]
  },
  {
   "cell_type": "code",
   "execution_count": 25,
   "metadata": {},
   "outputs": [
    {
     "data": {
      "text/html": [
       "<div>\n",
       "<style scoped>\n",
       "    .dataframe tbody tr th:only-of-type {\n",
       "        vertical-align: middle;\n",
       "    }\n",
       "\n",
       "    .dataframe tbody tr th {\n",
       "        vertical-align: top;\n",
       "    }\n",
       "\n",
       "    .dataframe thead th {\n",
       "        text-align: right;\n",
       "    }\n",
       "</style>\n",
       "<table border=\"1\" class=\"dataframe\">\n",
       "  <thead>\n",
       "    <tr style=\"text-align: right;\">\n",
       "      <th></th>\n",
       "      <th>UDT acc</th>\n",
       "      <th>UDT std</th>\n",
       "      <th>New accuracy</th>\n",
       "      <th>New std</th>\n",
       "    </tr>\n",
       "  </thead>\n",
       "  <tbody>\n",
       "    <tr>\n",
       "      <th>texas</th>\n",
       "      <td>79.73</td>\n",
       "      <td>3.87</td>\n",
       "      <td>77.03</td>\n",
       "      <td>5.70</td>\n",
       "    </tr>\n",
       "    <tr>\n",
       "      <th>cornell</th>\n",
       "      <td>71.62</td>\n",
       "      <td>5.95</td>\n",
       "      <td>70.27</td>\n",
       "      <td>3.20</td>\n",
       "    </tr>\n",
       "    <tr>\n",
       "      <th>wisconsin</th>\n",
       "      <td>76.47</td>\n",
       "      <td>4.30</td>\n",
       "      <td>80.78</td>\n",
       "      <td>3.90</td>\n",
       "    </tr>\n",
       "    <tr>\n",
       "      <th>chameleon</th>\n",
       "      <td>64.47</td>\n",
       "      <td>2.18</td>\n",
       "      <td>65.40</td>\n",
       "      <td>2.06</td>\n",
       "    </tr>\n",
       "    <tr>\n",
       "      <th>squirrel</th>\n",
       "      <td>52.03</td>\n",
       "      <td>1.70</td>\n",
       "      <td>47.94</td>\n",
       "      <td>0.00</td>\n",
       "    </tr>\n",
       "    <tr>\n",
       "      <th>actor</th>\n",
       "      <td>35.35</td>\n",
       "      <td>1.24</td>\n",
       "      <td>0.00</td>\n",
       "      <td>0.00</td>\n",
       "    </tr>\n",
       "  </tbody>\n",
       "</table>\n",
       "</div>"
      ],
      "text/plain": [
       "           UDT acc  UDT std  New accuracy  New std\n",
       "texas        79.73     3.87         77.03     5.70\n",
       "cornell      71.62     5.95         70.27     3.20\n",
       "wisconsin    76.47     4.30         80.78     3.90\n",
       "chameleon    64.47     2.18         65.40     2.06\n",
       "squirrel     52.03     1.70         47.94     0.00\n",
       "actor        35.35     1.24          0.00     0.00"
      ]
     },
     "execution_count": 25,
     "metadata": {},
     "output_type": "execute_result"
    }
   ],
   "source": [
    "dataframes.acc_std_df()\n",
    "dataframes.acc_std"
   ]
  },
  {
   "cell_type": "code",
   "execution_count": 28,
   "metadata": {},
   "outputs": [
    {
     "data": {
      "text/html": [
       "<div>\n",
       "<style scoped>\n",
       "    .dataframe tbody tr th:only-of-type {\n",
       "        vertical-align: middle;\n",
       "    }\n",
       "\n",
       "    .dataframe tbody tr th {\n",
       "        vertical-align: top;\n",
       "    }\n",
       "\n",
       "    .dataframe thead th {\n",
       "        text-align: right;\n",
       "    }\n",
       "</style>\n",
       "<table border=\"1\" class=\"dataframe\">\n",
       "  <thead>\n",
       "    <tr style=\"text-align: right;\">\n",
       "      <th></th>\n",
       "      <th>Texas avg</th>\n",
       "      <th>Cornell avg</th>\n",
       "      <th>Wisconsin avg</th>\n",
       "      <th>Chameleon avg</th>\n",
       "      <th>Squirrel avg</th>\n",
       "      <th>Actor avg</th>\n",
       "    </tr>\n",
       "  </thead>\n",
       "  <tbody>\n",
       "    <tr>\n",
       "      <th>org || org (att11)</th>\n",
       "      <td>0.0009</td>\n",
       "      <td>0.0001</td>\n",
       "      <td>0.0000</td>\n",
       "      <td>0.0005</td>\n",
       "      <td>-1</td>\n",
       "      <td>-1</td>\n",
       "    </tr>\n",
       "    <tr>\n",
       "      <th>org || feat (att12)</th>\n",
       "      <td>0.9986</td>\n",
       "      <td>0.9998</td>\n",
       "      <td>0.9999</td>\n",
       "      <td>0.0005</td>\n",
       "      <td>-1</td>\n",
       "      <td>-1</td>\n",
       "    </tr>\n",
       "    <tr>\n",
       "      <th>org || str (att13)</th>\n",
       "      <td>0.0004</td>\n",
       "      <td>0.0001</td>\n",
       "      <td>0.0000</td>\n",
       "      <td>0.9990</td>\n",
       "      <td>-1</td>\n",
       "      <td>-1</td>\n",
       "    </tr>\n",
       "  </tbody>\n",
       "</table>\n",
       "</div>"
      ],
      "text/plain": [
       "                     Texas avg  Cornell avg  Wisconsin avg  Chameleon avg  \\\n",
       "org || org (att11)      0.0009       0.0001         0.0000         0.0005   \n",
       "org || feat (att12)     0.9986       0.9998         0.9999         0.0005   \n",
       "org || str (att13)      0.0004       0.0001         0.0000         0.9990   \n",
       "\n",
       "                     Squirrel avg  Actor avg  \n",
       "org || org (att11)             -1         -1  \n",
       "org || feat (att12)            -1         -1  \n",
       "org || str (att13)             -1         -1  "
      ]
     },
     "execution_count": 28,
     "metadata": {},
     "output_type": "execute_result"
    }
   ],
   "source": [
    "dataframes.attention_encoder1_df()\n",
    "dataframes.att_enc1"
   ]
  }
 ],
 "metadata": {
  "kernelspec": {
   "display_name": "230818_UDT",
   "language": "python",
   "name": "python3"
  },
  "language_info": {
   "codemirror_mode": {
    "name": "ipython",
    "version": 3
   },
   "file_extension": ".py",
   "mimetype": "text/x-python",
   "name": "python",
   "nbconvert_exporter": "python",
   "pygments_lexer": "ipython3",
   "version": "3.10.12"
  }
 },
 "nbformat": 4,
 "nbformat_minor": 2
}
